{
  "nbformat": 4,
  "nbformat_minor": 0,
  "metadata": {
    "kernelspec": {
      "display_name": "Python 3",
      "language": "python",
      "name": "python3"
    },
    "language_info": {
      "codemirror_mode": {
        "name": "ipython",
        "version": 3
      },
      "file_extension": ".py",
      "mimetype": "text/x-python",
      "name": "python",
      "nbconvert_exporter": "python",
      "pygments_lexer": "ipython3",
      "version": "3.7.6"
    },
    "colab": {
      "name": "Heart disease (1).ipynb",
      "provenance": [],
      "include_colab_link": true
    }
  },
  "cells": [
    {
      "cell_type": "markdown",
      "metadata": {
        "id": "view-in-github",
        "colab_type": "text"
      },
      "source": [
        "<a href=\"https://colab.research.google.com/github/girishprabu/Curneu-Assessment/blob/main/Heart%20Disease%20Prediction.ipynb\" target=\"_parent\"><img src=\"https://colab.research.google.com/assets/colab-badge.svg\" alt=\"Open In Colab\"/></a>"
      ]
    },
    {
      "cell_type": "code",
      "metadata": {
        "id": "uABOHDX2dV5S"
      },
      "source": [
        "import random\n",
        "import pandas as pd\n",
        "import numpy as np\n",
        "from sklearn.model_selection import train_test_split \n",
        "from sklearn.neighbors import KNeighborsClassifier \n",
        "from scipy.stats import mode \n",
        "import matplotlib.pyplot as plt \n",
        "from sklearn.preprocessing import StandardScaler\n",
        "\n",
        "db= pd.read_csv('D:/Q17/SD03Q017/heart_failure_clinical_records_dataset.csv')"
      ],
      "execution_count": null,
      "outputs": []
    },
    {
      "cell_type": "code",
      "metadata": {
        "id": "CfRDZdybdV5W",
        "outputId": "97cb0420-a969-4db5-9432-d54dab7935bf"
      },
      "source": [
        "db.head"
      ],
      "execution_count": null,
      "outputs": [
        {
          "output_type": "execute_result",
          "data": {
            "text/plain": [
              "<bound method NDFrame.head of       age  anaemia  creatinine_phosphokinase  diabetes  ejection_fraction  \\\n",
              "0    75.0        0                       582         0                 20   \n",
              "1    55.0        0                      7861         0                 38   \n",
              "2    65.0        0                       146         0                 20   \n",
              "3    50.0        1                       111         0                 20   \n",
              "4    65.0        1                       160         1                 20   \n",
              "..    ...      ...                       ...       ...                ...   \n",
              "294  62.0        0                        61         1                 38   \n",
              "295  55.0        0                      1820         0                 38   \n",
              "296  45.0        0                      2060         1                 60   \n",
              "297  45.0        0                      2413         0                 38   \n",
              "298  50.0        0                       196         0                 45   \n",
              "\n",
              "     high_blood_pressure  platelets  serum_creatinine  serum_sodium  sex  \\\n",
              "0                      1  265000.00               1.9           130    1   \n",
              "1                      0  263358.03               1.1           136    1   \n",
              "2                      0  162000.00               1.3           129    1   \n",
              "3                      0  210000.00               1.9           137    1   \n",
              "4                      0  327000.00               2.7           116    0   \n",
              "..                   ...        ...               ...           ...  ...   \n",
              "294                    1  155000.00               1.1           143    1   \n",
              "295                    0  270000.00               1.2           139    0   \n",
              "296                    0  742000.00               0.8           138    0   \n",
              "297                    0  140000.00               1.4           140    1   \n",
              "298                    0  395000.00               1.6           136    1   \n",
              "\n",
              "     smoking  time  DEATH_EVENT  \n",
              "0          0     4            1  \n",
              "1          0     6            1  \n",
              "2          1     7            1  \n",
              "3          0     7            1  \n",
              "4          0     8            1  \n",
              "..       ...   ...          ...  \n",
              "294        1   270            0  \n",
              "295        0   271            0  \n",
              "296        0   278            0  \n",
              "297        1   280            0  \n",
              "298        1   285            0  \n",
              "\n",
              "[299 rows x 13 columns]>"
            ]
          },
          "metadata": {
            "tags": []
          },
          "execution_count": 48
        }
      ]
    },
    {
      "cell_type": "code",
      "metadata": {
        "id": "mKOwjcv4dV5a",
        "outputId": "4d4ba408-c7bf-47ba-df70-aa32b03325c5"
      },
      "source": [
        "db.info(verbose=True)"
      ],
      "execution_count": null,
      "outputs": [
        {
          "output_type": "stream",
          "text": [
            "<class 'pandas.core.frame.DataFrame'>\n",
            "RangeIndex: 299 entries, 0 to 298\n",
            "Data columns (total 13 columns):\n",
            " #   Column                    Non-Null Count  Dtype  \n",
            "---  ------                    --------------  -----  \n",
            " 0   age                       299 non-null    float64\n",
            " 1   anaemia                   299 non-null    int64  \n",
            " 2   creatinine_phosphokinase  299 non-null    int64  \n",
            " 3   diabetes                  299 non-null    int64  \n",
            " 4   ejection_fraction         299 non-null    int64  \n",
            " 5   high_blood_pressure       299 non-null    int64  \n",
            " 6   platelets                 299 non-null    float64\n",
            " 7   serum_creatinine          299 non-null    float64\n",
            " 8   serum_sodium              299 non-null    int64  \n",
            " 9   sex                       299 non-null    int64  \n",
            " 10  smoking                   299 non-null    int64  \n",
            " 11  time                      299 non-null    int64  \n",
            " 12  DEATH_EVENT               299 non-null    int64  \n",
            "dtypes: float64(3), int64(10)\n",
            "memory usage: 30.5 KB\n"
          ],
          "name": "stdout"
        }
      ]
    },
    {
      "cell_type": "code",
      "metadata": {
        "id": "nuvX7IdGdV5c",
        "outputId": "d99cc02d-9e34-4d1c-8fef-e26b1fa86336"
      },
      "source": [
        "db.describe().T"
      ],
      "execution_count": null,
      "outputs": [
        {
          "output_type": "execute_result",
          "data": {
            "text/html": [
              "<div>\n",
              "<style scoped>\n",
              "    .dataframe tbody tr th:only-of-type {\n",
              "        vertical-align: middle;\n",
              "    }\n",
              "\n",
              "    .dataframe tbody tr th {\n",
              "        vertical-align: top;\n",
              "    }\n",
              "\n",
              "    .dataframe thead th {\n",
              "        text-align: right;\n",
              "    }\n",
              "</style>\n",
              "<table border=\"1\" class=\"dataframe\">\n",
              "  <thead>\n",
              "    <tr style=\"text-align: right;\">\n",
              "      <th></th>\n",
              "      <th>count</th>\n",
              "      <th>mean</th>\n",
              "      <th>std</th>\n",
              "      <th>min</th>\n",
              "      <th>25%</th>\n",
              "      <th>50%</th>\n",
              "      <th>75%</th>\n",
              "      <th>max</th>\n",
              "    </tr>\n",
              "  </thead>\n",
              "  <tbody>\n",
              "    <tr>\n",
              "      <th>age</th>\n",
              "      <td>299.0</td>\n",
              "      <td>60.833893</td>\n",
              "      <td>11.894809</td>\n",
              "      <td>40.0</td>\n",
              "      <td>51.0</td>\n",
              "      <td>60.0</td>\n",
              "      <td>70.0</td>\n",
              "      <td>95.0</td>\n",
              "    </tr>\n",
              "    <tr>\n",
              "      <th>anaemia</th>\n",
              "      <td>299.0</td>\n",
              "      <td>0.431438</td>\n",
              "      <td>0.496107</td>\n",
              "      <td>0.0</td>\n",
              "      <td>0.0</td>\n",
              "      <td>0.0</td>\n",
              "      <td>1.0</td>\n",
              "      <td>1.0</td>\n",
              "    </tr>\n",
              "    <tr>\n",
              "      <th>creatinine_phosphokinase</th>\n",
              "      <td>299.0</td>\n",
              "      <td>581.839465</td>\n",
              "      <td>970.287881</td>\n",
              "      <td>23.0</td>\n",
              "      <td>116.5</td>\n",
              "      <td>250.0</td>\n",
              "      <td>582.0</td>\n",
              "      <td>7861.0</td>\n",
              "    </tr>\n",
              "    <tr>\n",
              "      <th>diabetes</th>\n",
              "      <td>299.0</td>\n",
              "      <td>0.418060</td>\n",
              "      <td>0.494067</td>\n",
              "      <td>0.0</td>\n",
              "      <td>0.0</td>\n",
              "      <td>0.0</td>\n",
              "      <td>1.0</td>\n",
              "      <td>1.0</td>\n",
              "    </tr>\n",
              "    <tr>\n",
              "      <th>ejection_fraction</th>\n",
              "      <td>299.0</td>\n",
              "      <td>38.083612</td>\n",
              "      <td>11.834841</td>\n",
              "      <td>14.0</td>\n",
              "      <td>30.0</td>\n",
              "      <td>38.0</td>\n",
              "      <td>45.0</td>\n",
              "      <td>80.0</td>\n",
              "    </tr>\n",
              "    <tr>\n",
              "      <th>high_blood_pressure</th>\n",
              "      <td>299.0</td>\n",
              "      <td>0.351171</td>\n",
              "      <td>0.478136</td>\n",
              "      <td>0.0</td>\n",
              "      <td>0.0</td>\n",
              "      <td>0.0</td>\n",
              "      <td>1.0</td>\n",
              "      <td>1.0</td>\n",
              "    </tr>\n",
              "    <tr>\n",
              "      <th>platelets</th>\n",
              "      <td>299.0</td>\n",
              "      <td>263358.029264</td>\n",
              "      <td>97804.236869</td>\n",
              "      <td>25100.0</td>\n",
              "      <td>212500.0</td>\n",
              "      <td>262000.0</td>\n",
              "      <td>303500.0</td>\n",
              "      <td>850000.0</td>\n",
              "    </tr>\n",
              "    <tr>\n",
              "      <th>serum_creatinine</th>\n",
              "      <td>299.0</td>\n",
              "      <td>1.393880</td>\n",
              "      <td>1.034510</td>\n",
              "      <td>0.5</td>\n",
              "      <td>0.9</td>\n",
              "      <td>1.1</td>\n",
              "      <td>1.4</td>\n",
              "      <td>9.4</td>\n",
              "    </tr>\n",
              "    <tr>\n",
              "      <th>serum_sodium</th>\n",
              "      <td>299.0</td>\n",
              "      <td>136.625418</td>\n",
              "      <td>4.412477</td>\n",
              "      <td>113.0</td>\n",
              "      <td>134.0</td>\n",
              "      <td>137.0</td>\n",
              "      <td>140.0</td>\n",
              "      <td>148.0</td>\n",
              "    </tr>\n",
              "    <tr>\n",
              "      <th>sex</th>\n",
              "      <td>299.0</td>\n",
              "      <td>0.648829</td>\n",
              "      <td>0.478136</td>\n",
              "      <td>0.0</td>\n",
              "      <td>0.0</td>\n",
              "      <td>1.0</td>\n",
              "      <td>1.0</td>\n",
              "      <td>1.0</td>\n",
              "    </tr>\n",
              "    <tr>\n",
              "      <th>smoking</th>\n",
              "      <td>299.0</td>\n",
              "      <td>0.321070</td>\n",
              "      <td>0.467670</td>\n",
              "      <td>0.0</td>\n",
              "      <td>0.0</td>\n",
              "      <td>0.0</td>\n",
              "      <td>1.0</td>\n",
              "      <td>1.0</td>\n",
              "    </tr>\n",
              "    <tr>\n",
              "      <th>time</th>\n",
              "      <td>299.0</td>\n",
              "      <td>130.260870</td>\n",
              "      <td>77.614208</td>\n",
              "      <td>4.0</td>\n",
              "      <td>73.0</td>\n",
              "      <td>115.0</td>\n",
              "      <td>203.0</td>\n",
              "      <td>285.0</td>\n",
              "    </tr>\n",
              "    <tr>\n",
              "      <th>DEATH_EVENT</th>\n",
              "      <td>299.0</td>\n",
              "      <td>0.321070</td>\n",
              "      <td>0.467670</td>\n",
              "      <td>0.0</td>\n",
              "      <td>0.0</td>\n",
              "      <td>0.0</td>\n",
              "      <td>1.0</td>\n",
              "      <td>1.0</td>\n",
              "    </tr>\n",
              "  </tbody>\n",
              "</table>\n",
              "</div>"
            ],
            "text/plain": [
              "                          count           mean           std      min  \\\n",
              "age                       299.0      60.833893     11.894809     40.0   \n",
              "anaemia                   299.0       0.431438      0.496107      0.0   \n",
              "creatinine_phosphokinase  299.0     581.839465    970.287881     23.0   \n",
              "diabetes                  299.0       0.418060      0.494067      0.0   \n",
              "ejection_fraction         299.0      38.083612     11.834841     14.0   \n",
              "high_blood_pressure       299.0       0.351171      0.478136      0.0   \n",
              "platelets                 299.0  263358.029264  97804.236869  25100.0   \n",
              "serum_creatinine          299.0       1.393880      1.034510      0.5   \n",
              "serum_sodium              299.0     136.625418      4.412477    113.0   \n",
              "sex                       299.0       0.648829      0.478136      0.0   \n",
              "smoking                   299.0       0.321070      0.467670      0.0   \n",
              "time                      299.0     130.260870     77.614208      4.0   \n",
              "DEATH_EVENT               299.0       0.321070      0.467670      0.0   \n",
              "\n",
              "                               25%       50%       75%       max  \n",
              "age                           51.0      60.0      70.0      95.0  \n",
              "anaemia                        0.0       0.0       1.0       1.0  \n",
              "creatinine_phosphokinase     116.5     250.0     582.0    7861.0  \n",
              "diabetes                       0.0       0.0       1.0       1.0  \n",
              "ejection_fraction             30.0      38.0      45.0      80.0  \n",
              "high_blood_pressure            0.0       0.0       1.0       1.0  \n",
              "platelets                 212500.0  262000.0  303500.0  850000.0  \n",
              "serum_creatinine               0.9       1.1       1.4       9.4  \n",
              "serum_sodium                 134.0     137.0     140.0     148.0  \n",
              "sex                            0.0       1.0       1.0       1.0  \n",
              "smoking                        0.0       0.0       1.0       1.0  \n",
              "time                          73.0     115.0     203.0     285.0  \n",
              "DEATH_EVENT                    0.0       0.0       1.0       1.0  "
            ]
          },
          "metadata": {
            "tags": []
          },
          "execution_count": 50
        }
      ]
    },
    {
      "cell_type": "code",
      "metadata": {
        "id": "WmwHA4DNdV5d"
      },
      "source": [
        "db_copy = db.copy(deep = True)\n",
        "db_copy[['anaemia','creatinine_phosphokinase','diabetes','ejection_fraction','ejection_fraction','high_blood_pressure','platelets','serum_creatinine','serum_creatinine','serum_sodium','sex','smoking','time']] = db_copy[['anaemia','creatinine_phosphokinase','diabetes','ejection_fraction','ejection_fraction','high_blood_pressure','platelets','serum_creatinine','serum_creatinine','serum_sodium','sex','smoking','time']].replace(0,np.NaN)"
      ],
      "execution_count": null,
      "outputs": []
    },
    {
      "cell_type": "code",
      "metadata": {
        "id": "2v_jpuzddV5f",
        "outputId": "73738d6c-14c9-41ef-f33a-054b754e7b64"
      },
      "source": [
        "print(db_copy.isnull().sum())"
      ],
      "execution_count": null,
      "outputs": [
        {
          "output_type": "stream",
          "text": [
            "age                           0\n",
            "anaemia                     170\n",
            "creatinine_phosphokinase      0\n",
            "diabetes                    174\n",
            "ejection_fraction             0\n",
            "high_blood_pressure         194\n",
            "platelets                     0\n",
            "serum_creatinine              0\n",
            "serum_sodium                  0\n",
            "sex                         105\n",
            "smoking                     203\n",
            "time                          0\n",
            "DEATH_EVENT                   0\n",
            "dtype: int64\n"
          ],
          "name": "stdout"
        }
      ]
    },
    {
      "cell_type": "code",
      "metadata": {
        "id": "lIY1QtYsdV5g",
        "outputId": "2a4dd68a-e3c5-49c5-854c-04615b1d140f"
      },
      "source": [
        "p = db.hist(figsize = (20,20))"
      ],
      "execution_count": null,
      "outputs": [
        {
          "output_type": "display_data",
          "data": {
            "image/png": "[encoded data removed]",
            "text/plain": [
              "<Figure size 1440x1440 with 16 Axes>"
            ]
          },
          "metadata": {
            "tags": [],
            "needs_background": "light"
          }
        }
      ]
    },
    {
      "cell_type": "code",
      "metadata": {
        "id": "EGsi4UVqdV5h"
      },
      "source": [
        "db_copy['anaemia'].fillna(db_copy['anaemia'].mean, inplace = True)"
      ],
      "execution_count": null,
      "outputs": []
    },
    {
      "cell_type": "code",
      "metadata": {
        "id": "FSVKS_pUdV5h"
      },
      "source": [
        "db_copy['diabetes'].fillna(db_copy['diabetes'].mean(), inplace = True)"
      ],
      "execution_count": null,
      "outputs": []
    },
    {
      "cell_type": "code",
      "metadata": {
        "id": "7gghyxTsdV5i"
      },
      "source": [
        "db_copy['high_blood_pressure'].fillna(db_copy['high_blood_pressure'].mean(), inplace = True)"
      ],
      "execution_count": null,
      "outputs": []
    },
    {
      "cell_type": "code",
      "metadata": {
        "id": "cWUjsYTldV5j"
      },
      "source": [
        "db_copy['sex'].fillna(db_copy['sex'].mean(), inplace = True)"
      ],
      "execution_count": null,
      "outputs": []
    },
    {
      "cell_type": "code",
      "metadata": {
        "id": "UKX19d0_dV5j"
      },
      "source": [
        "db_copy['smoking'].fillna(db_copy['smoking'].mean(), inplace = True)"
      ],
      "execution_count": null,
      "outputs": []
    },
    {
      "cell_type": "code",
      "metadata": {
        "id": "x1pryOHkdV5k",
        "outputId": "91992676-371f-4682-902b-4b28650a4dc0"
      },
      "source": [
        "print(db_copy.isnull().sum())"
      ],
      "execution_count": null,
      "outputs": [
        {
          "output_type": "stream",
          "text": [
            "age                         0\n",
            "anaemia                     0\n",
            "creatinine_phosphokinase    0\n",
            "diabetes                    0\n",
            "ejection_fraction           0\n",
            "high_blood_pressure         0\n",
            "platelets                   0\n",
            "serum_creatinine            0\n",
            "serum_sodium                0\n",
            "sex                         0\n",
            "smoking                     0\n",
            "time                        0\n",
            "DEATH_EVENT                 0\n",
            "dtype: int64\n"
          ],
          "name": "stdout"
        }
      ]
    },
    {
      "cell_type": "code",
      "metadata": {
        "id": "2gtsMvkadV5l",
        "outputId": "3de33e05-b633-45ad-e456-d9ceebdeebcd"
      },
      "source": [
        "db.DEATH_EVENT .value_counts().plot(kind=\"pie\")"
      ],
      "execution_count": null,
      "outputs": [
        {
          "output_type": "execute_result",
          "data": {
            "text/plain": [
              "<matplotlib.axes._subplots.AxesSubplot at 0x20d7fbba208>"
            ]
          },
          "metadata": {
            "tags": []
          },
          "execution_count": 60
        },
        {
          "output_type": "display_data",
          "data": {
            "image/png": "[encoded data removed]",
            "text/plain": [
              "<Figure size 432x288 with 1 Axes>"
            ]
          },
          "metadata": {
            "tags": []
          }
        }
      ]
    },
    {
      "cell_type": "code",
      "metadata": {
        "id": "d1r_9D0tdV5l",
        "outputId": "1ffbb2d6-6b38-4cdb-f935-5d5c2c046a0f"
      },
      "source": [
        "import seaborn as sns\n",
        "sns.boxplot(x=db[\"platelets\"])"
      ],
      "execution_count": null,
      "outputs": [
        {
          "output_type": "execute_result",
          "data": {
            "text/plain": [
              "<matplotlib.axes._subplots.AxesSubplot at 0x20d7fe06948>"
            ]
          },
          "metadata": {
            "tags": []
          },
          "execution_count": 61
        },
        {
          "output_type": "display_data",
          "data": {
            "image/png": "[encoded data removed]",
            "text/plain": [
              "<Figure size 432x288 with 1 Axes>"
            ]
          },
          "metadata": {
            "tags": [],
            "needs_background": "light"
          }
        }
      ]
    },
    {
      "cell_type": "code",
      "metadata": {
        "id": "tO4KBd6adV5m",
        "outputId": "37bebedf-a944-4e6c-8259-65e99201e5dd"
      },
      "source": [
        "sns.boxplot(x=db[\"serum_sodium\"])"
      ],
      "execution_count": null,
      "outputs": [
        {
          "output_type": "execute_result",
          "data": {
            "text/plain": [
              "<matplotlib.axes._subplots.AxesSubplot at 0x20d7faddc48>"
            ]
          },
          "metadata": {
            "tags": []
          },
          "execution_count": 62
        },
        {
          "output_type": "display_data",
          "data": {
            "image/png": "[encoded data removed]",
            "text/plain": [
              "<Figure size 432x288 with 1 Axes>"
            ]
          },
          "metadata": {
            "tags": [],
            "needs_background": "light"
          }
        }
      ]
    },
    {
      "cell_type": "code",
      "metadata": {
        "id": "gUQU63-sdV5n",
        "outputId": "b24266ff-e9fb-4747-9538-29e18c8dbd08"
      },
      "source": [
        "sns.boxplot(x=db[\"creatinine_phosphokinase\"])"
      ],
      "execution_count": null,
      "outputs": [
        {
          "output_type": "execute_result",
          "data": {
            "text/plain": [
              "<matplotlib.axes._subplots.AxesSubplot at 0x20d7feb4048>"
            ]
          },
          "metadata": {
            "tags": []
          },
          "execution_count": 63
        },
        {
          "output_type": "display_data",
          "data": {
            "image/png": "[encoded data removed]",
            "text/plain": [
              "<Figure size 432x288 with 1 Axes>"
            ]
          },
          "metadata": {
            "tags": [],
            "needs_background": "light"
          }
        }
      ]
    },
    {
      "cell_type": "code",
      "metadata": {
        "id": "1dFQhpDjdV5o",
        "outputId": "218e2a36-1d46-4240-d8b0-f974fc7877b7"
      },
      "source": [
        "sns.boxplot(x=db[\"ejection_fraction\"])"
      ],
      "execution_count": null,
      "outputs": [
        {
          "output_type": "execute_result",
          "data": {
            "text/plain": [
              "<matplotlib.axes._subplots.AxesSubplot at 0x20d7feba308>"
            ]
          },
          "metadata": {
            "tags": []
          },
          "execution_count": 64
        },
        {
          "output_type": "display_data",
          "data": {
            "image/png": "[encoded data removed]",
            "text/plain": [
              "<Figure size 432x288 with 1 Axes>"
            ]
          },
          "metadata": {
            "tags": [],
            "needs_background": "light"
          }
        }
      ]
    },
    {
      "cell_type": "code",
      "metadata": {
        "id": "Da31MaUedV5q",
        "outputId": "48ecd5ce-31cc-4887-f9b6-cfd8a3d394fa"
      },
      "source": [
        "sns.boxplot(x=db[\"age\"])"
      ],
      "execution_count": null,
      "outputs": [
        {
          "output_type": "execute_result",
          "data": {
            "text/plain": [
              "<matplotlib.axes._subplots.AxesSubplot at 0x20d7fd3f548>"
            ]
          },
          "metadata": {
            "tags": []
          },
          "execution_count": 65
        },
        {
          "output_type": "display_data",
          "data": {
            "image/png": "[encoded data removed]",
            "text/plain": [
              "<Figure size 432x288 with 1 Axes>"
            ]
          },
          "metadata": {
            "tags": [],
            "needs_background": "light"
          }
        }
      ]
    },
    {
      "cell_type": "code",
      "metadata": {
        "id": "-oRkRQvmdV5r",
        "outputId": "9d75c442-00c9-448b-d1d0-fe48910fce51"
      },
      "source": [
        "sns.boxplot(x=db[\"time\"])"
      ],
      "execution_count": null,
      "outputs": [
        {
          "output_type": "execute_result",
          "data": {
            "text/plain": [
              "<matplotlib.axes._subplots.AxesSubplot at 0x20d7fc522c8>"
            ]
          },
          "metadata": {
            "tags": []
          },
          "execution_count": 66
        },
        {
          "output_type": "display_data",
          "data": {
            "image/png": "[encoded data removed]",
            "text/plain": [
              "<Figure size 432x288 with 1 Axes>"
            ]
          },
          "metadata": {
            "tags": [],
            "needs_background": "light"
          }
        }
      ]
    },
    {
      "cell_type": "markdown",
      "metadata": {
        "id": "J663XNqTdV5s"
      },
      "source": [
        "# REMOVING OUTLIERS"
      ]
    },
    {
      "cell_type": "code",
      "metadata": {
        "id": "CD74jdk3dV5s"
      },
      "source": [
        "Q1 = db[\"platelets\"].quantile(0.25)\n",
        "Q3 = db[\"platelets\"].quantile(0.75)\n",
        "IQR = Q3 - Q1\n",
        "db[\"platelets\"] = db[\"platelets\"][~((db[\"platelets\"] < (Q1 - 1.5 * IQR)) |(db[\"platelets\"] > (Q3 + 1.5 * IQR)))]"
      ],
      "execution_count": null,
      "outputs": []
    },
    {
      "cell_type": "code",
      "metadata": {
        "id": "CTX64yqxdV5v"
      },
      "source": [
        "Q1 = db[\"serum_sodium\"].quantile(0.25)\n",
        "Q3 = db[\"serum_sodium\"].quantile(0.75)\n",
        "IQR = Q3 - Q1\n",
        "db[\"serum_sodium\"] = db[\"serum_sodium\"][~((db[\"serum_sodium\"] < (Q1 - 1.5 * IQR)) |(db[\"serum_sodium\"] > (Q3 + 1.5 * IQR)))]"
      ],
      "execution_count": null,
      "outputs": []
    },
    {
      "cell_type": "code",
      "metadata": {
        "id": "G3o8ou7wdV5w"
      },
      "source": [
        "Q1 = db[\"creatinine_phosphokinase\"].quantile(0.25)\n",
        "Q3 = db[\"creatinine_phosphokinase\"].quantile(0.75)\n",
        "IQR = Q3 - Q1\n",
        "db[\"creatinine_phosphokinase\"] = db[\"creatinine_phosphokinase\"][~((db[\"creatinine_phosphokinase\"] < (Q1 - 1.5 * IQR)) |(db[\"creatinine_phosphokinase\"] > (Q3 + 1.5 * IQR)))]"
      ],
      "execution_count": null,
      "outputs": []
    },
    {
      "cell_type": "code",
      "metadata": {
        "id": "vDuhok89dV5x",
        "outputId": "8c326ed1-f8bd-4d2f-ab6d-e45a9fea3443"
      },
      "source": [
        "db.info(verbose=True)"
      ],
      "execution_count": null,
      "outputs": [
        {
          "output_type": "stream",
          "text": [
            "<class 'pandas.core.frame.DataFrame'>\n",
            "RangeIndex: 299 entries, 0 to 298\n",
            "Data columns (total 13 columns):\n",
            " #   Column                    Non-Null Count  Dtype  \n",
            "---  ------                    --------------  -----  \n",
            " 0   age                       299 non-null    float64\n",
            " 1   anaemia                   299 non-null    int64  \n",
            " 2   creatinine_phosphokinase  270 non-null    float64\n",
            " 3   diabetes                  299 non-null    int64  \n",
            " 4   ejection_fraction         299 non-null    int64  \n",
            " 5   high_blood_pressure       299 non-null    int64  \n",
            " 6   platelets                 278 non-null    float64\n",
            " 7   serum_creatinine          299 non-null    float64\n",
            " 8   serum_sodium              295 non-null    float64\n",
            " 9   sex                       299 non-null    int64  \n",
            " 10  smoking                   299 non-null    int64  \n",
            " 11  time                      299 non-null    int64  \n",
            " 12  DEATH_EVENT               299 non-null    int64  \n",
            "dtypes: float64(5), int64(8)\n",
            "memory usage: 30.5 KB\n"
          ],
          "name": "stdout"
        }
      ]
    },
    {
      "cell_type": "code",
      "metadata": {
        "id": "g6SFpAEvdV5y",
        "outputId": "5b792891-7fdf-4f50-bf0d-6ae5b8a66d65"
      },
      "source": [
        "db.dropna(subset = [\"platelets\",\"serum_sodium\",\"creatinine_phosphokinase\"], inplace=True)\n",
        "db.info(verbose=True)"
      ],
      "execution_count": null,
      "outputs": [
        {
          "output_type": "stream",
          "text": [
            "<class 'pandas.core.frame.DataFrame'>\n",
            "Int64Index: 248 entries, 0 to 298\n",
            "Data columns (total 13 columns):\n",
            " #   Column                    Non-Null Count  Dtype  \n",
            "---  ------                    --------------  -----  \n",
            " 0   age                       248 non-null    float64\n",
            " 1   anaemia                   248 non-null    int64  \n",
            " 2   creatinine_phosphokinase  248 non-null    float64\n",
            " 3   diabetes                  248 non-null    int64  \n",
            " 4   ejection_fraction         248 non-null    int64  \n",
            " 5   high_blood_pressure       248 non-null    int64  \n",
            " 6   platelets                 248 non-null    float64\n",
            " 7   serum_creatinine          248 non-null    float64\n",
            " 8   serum_sodium              248 non-null    float64\n",
            " 9   sex                       248 non-null    int64  \n",
            " 10  smoking                   248 non-null    int64  \n",
            " 11  time                      248 non-null    int64  \n",
            " 12  DEATH_EVENT               248 non-null    int64  \n",
            "dtypes: float64(5), int64(8)\n",
            "memory usage: 27.1 KB\n"
          ],
          "name": "stdout"
        }
      ]
    },
    {
      "cell_type": "code",
      "metadata": {
        "id": "gF9D1Q2JdV5z"
      },
      "source": [
        "scaler = StandardScaler()\n",
        "db.iloc[:,:-1] = scaler.fit_transform(db.iloc[:,:-1])"
      ],
      "execution_count": null,
      "outputs": []
    },
    {
      "cell_type": "code",
      "metadata": {
        "id": "5HXCfe_adV5z"
      },
      "source": [
        "class K_Nearest_Neighbors_Classifier() :  \n",
        "      \n",
        "    def __init__( self, K ) : \n",
        "          \n",
        "        self.K = K \n",
        "          \n",
        "    # Function to store training set \n",
        "          \n",
        "    def fit( self, X_train, Y_train ) : \n",
        "          \n",
        "        self.X_train = X_train \n",
        "          \n",
        "        self.Y_train = Y_train \n",
        "          \n",
        "        # no_of_training_examples, no_of_features \n",
        "          \n",
        "        self.m, self.n = X_train.shape \n",
        "      \n",
        "    # Function for prediction \n",
        "          \n",
        "    def predict( self, X_test ) : \n",
        "          \n",
        "        self.X_test = X_test \n",
        "          \n",
        "        # no_of_test_examples, no_of_features \n",
        "          \n",
        "        self.m_test, self.n = X_test.shape \n",
        "          \n",
        "        # initialize Y_predict \n",
        "          \n",
        "        Y_predict = np.zeros( self.m_test ) \n",
        "          \n",
        "        for i in range( self.m_test ) : \n",
        "              \n",
        "            x = self.X_test[i] \n",
        "              \n",
        "            # find the K nearest neighbors from current test example \n",
        "              \n",
        "            neighbors = np.zeros( self.K ) \n",
        "              \n",
        "            neighbors = self.find_neighbors( x ) \n",
        "              \n",
        "            # most frequent class in K neighbors \n",
        "              \n",
        "            Y_predict[i] = mode( neighbors )[0][0]     \n",
        "              \n",
        "        return Y_predict \n",
        "      \n",
        "    # Function to find the K nearest neighbors to current test example \n",
        "            \n",
        "    def find_neighbors( self, x ) : \n",
        "          \n",
        "        # calculate all the euclidean distances between current  \n",
        "        # test example x and training set X_train \n",
        "          \n",
        "        euclidean_distances = np.zeros( self.m ) \n",
        "          \n",
        "        for i in range( self.m ) : \n",
        "              \n",
        "            d = self.euclidean( x, self.X_train[i] ) \n",
        "              \n",
        "            euclidean_distances[i] = d \n",
        "          \n",
        "        # sort Y_train according to euclidean_distance_array and  \n",
        "        # store into Y_train_sorted \n",
        "          \n",
        "        inds = euclidean_distances.argsort() \n",
        "          \n",
        "        Y_train_sorted = self.Y_train[inds] \n",
        "          \n",
        "        return Y_train_sorted[:self.K] \n",
        "      \n",
        "    # Function to calculate euclidean distance \n",
        "              \n",
        "    def euclidean( self, x, x_train ) : \n",
        "          \n",
        "        return np.sqrt( np.sum( np.square( x - x_train ) ) ) \n",
        "  \n",
        "# Driver code \n",
        "  \n",
        "def main() : \n",
        "      \n",
        "    # Importing dataset \n",
        "      \n",
        "     \n",
        "  \n",
        "    X = db.iloc[:,:-1].values \n",
        "  \n",
        "    Y = db.iloc[:,-1:].values \n",
        "      \n",
        "    # Splitting dataset into train and test set \n",
        "  \n",
        "    X_train, X_test, Y_train, Y_test = train_test_split(  X, Y, test_size = 1/3, random_state = 0 ) \n",
        "      \n",
        "    # Model training \n",
        "      \n",
        "    model = K_Nearest_Neighbors_Classifier( K = 3 ) \n",
        "      \n",
        "    model.fit( X_train, Y_train ) \n",
        "      \n",
        "    model1 = KNeighborsClassifier( n_neighbors = 3 ) \n",
        "      \n",
        "    model1.fit( X_train, Y_train ) \n",
        "      \n",
        "    # Prediction on test set \n",
        "  \n",
        "    Y_pred = model.predict( X_test ) \n",
        "      \n",
        "    Y_pred1 = model1.predict( X_test ) \n",
        "      \n",
        "    # measure performance \n",
        "      \n",
        "    correctly_classified = 0\n",
        "      \n",
        "    correctly_classified1 = 0\n",
        "      \n",
        "    # counter \n",
        "      \n",
        "    count = 0\n",
        "      \n",
        "    for count in range( np.size( Y_pred ) ) : \n",
        "          \n",
        "        if Y_test[count] == Y_pred[count] : \n",
        "              \n",
        "            correctly_classified = correctly_classified + 1\n",
        "          \n",
        "        if Y_test[count] == Y_pred1[count] : \n",
        "              \n",
        "            correctly_classified1 = correctly_classified1 + 1\n",
        "              \n",
        "        count = count + 1\n",
        "          \n",
        "    print( \"Accuracy on test set by our model       :  \", (  \n",
        "      correctly_classified / count ) * 100 ) \n",
        "    print( \"Accuracy on test set by sklearn model   :  \", (  \n",
        "      correctly_classified1 / count ) * 100 ) \n",
        "    \n",
        "      "
      ],
      "execution_count": null,
      "outputs": []
    },
    {
      "cell_type": "code",
      "metadata": {
        "id": "Guru7vvcdV51",
        "outputId": "acc12b71-2afd-4fe2-f89c-0b38cf3768e1"
      },
      "source": [
        "if __name__ == \"__main__\" :  \n",
        "      \n",
        "    main()"
      ],
      "execution_count": null,
      "outputs": [
        {
          "output_type": "stream",
          "text": [
            "Accuracy on test set by our model       :   75.90361445783132\n",
            "Accuracy on test set by sklearn model   :   75.90361445783132\n"
          ],
          "name": "stdout"
        },
        {
          "output_type": "stream",
          "text": [
            "C:\\ProgramData\\Anaconda3\\lib\\site-packages\\ipykernel_launcher.py:103: DataConversionWarning: A column-vector y was passed when a 1d array was expected. Please change the shape of y to (n_samples, ), for example using ravel().\n"
          ],
          "name": "stderr"
        }
      ]
    },
    {
      "cell_type": "code",
      "metadata": {
        "id": "VU1K-aW1dV53"
      },
      "source": [
        ""
      ],
      "execution_count": null,
      "outputs": []
    }
  ]
}