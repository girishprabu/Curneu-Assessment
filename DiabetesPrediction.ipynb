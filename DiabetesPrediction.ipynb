{
  "nbformat": 4,
  "nbformat_minor": 0,
  "metadata": {
    "kernelspec": {
      "display_name": "Python 3",
      "language": "python",
      "name": "python3"
    },
    "language_info": {
      "codemirror_mode": {
        "name": "ipython",
        "version": 3
      },
      "file_extension": ".py",
      "mimetype": "text/x-python",
      "name": "python",
      "nbconvert_exporter": "python",
      "pygments_lexer": "ipython3",
      "version": "3.7.6"
    },
    "colab": {
      "name": "Diabetes (2) (1).ipynb",
      "provenance": [],
      "include_colab_link": true
    }
  },
  "cells": [
    {
      "cell_type": "markdown",
      "metadata": {
        "id": "view-in-github",
        "colab_type": "text"
      },
      "source": [
        "<a href=\"https://colab.research.google.com/github/girishprabu/Curneu-Assessment/blob/main/DiabetesPrediction.ipynb\" target=\"_parent\"><img src=\"https://colab.research.google.com/assets/colab-badge.svg\" alt=\"Open In Colab\"/></a>"
      ]
    },
    {
      "cell_type": "code",
      "metadata": {
        "id": "LECXIHyVbf_t"
      },
      "source": [
        "import pandas as pd\n",
        "import numpy as np\n",
        "from sklearn.model_selection import train_test_split \n",
        "from sklearn.neighbors import KNeighborsClassifier \n",
        "from scipy.stats import mode \n",
        "import matplotlib.pyplot as plt \n",
        "from sklearn.preprocessing import StandardScaler"
      ],
      "execution_count": null,
      "outputs": []
    },
    {
      "cell_type": "code",
      "metadata": {
        "id": "X7BBqcbtbgAD"
      },
      "source": [
        "db = pd.read_csv('D:/SD03Q06/Diabetes.csv')"
      ],
      "execution_count": null,
      "outputs": []
    },
    {
      "cell_type": "code",
      "metadata": {
        "id": "_1CPGDL8bgAF",
        "outputId": "d3ee8347-add9-4581-fa6c-72bd40ca339e"
      },
      "source": [
        "db.info(verbose=True)"
      ],
      "execution_count": null,
      "outputs": [
        {
          "output_type": "stream",
          "text": [
            "<class 'pandas.core.frame.DataFrame'>\n",
            "RangeIndex: 768 entries, 0 to 767\n",
            "Data columns (total 9 columns):\n",
            " #   Column                    Non-Null Count  Dtype  \n",
            "---  ------                    --------------  -----  \n",
            " 0   Pregnancies               768 non-null    int64  \n",
            " 1   Glucose                   768 non-null    int64  \n",
            " 2   BloodPressure             768 non-null    int64  \n",
            " 3   SkinThickness             768 non-null    int64  \n",
            " 4   Insulin                   768 non-null    int64  \n",
            " 5   BMI                       768 non-null    float64\n",
            " 6   DiabetesPedigreeFunction  768 non-null    float64\n",
            " 7   Age                       768 non-null    int64  \n",
            " 8   Outcome                   768 non-null    int64  \n",
            "dtypes: float64(2), int64(7)\n",
            "memory usage: 54.1 KB\n"
          ],
          "name": "stdout"
        }
      ]
    },
    {
      "cell_type": "code",
      "metadata": {
        "id": "TUh5_wW2bgAH",
        "outputId": "016f5872-5902-47c0-9eda-17fd23dbc981"
      },
      "source": [
        "db.describe().T"
      ],
      "execution_count": null,
      "outputs": [
        {
          "output_type": "execute_result",
          "data": {
            "text/html": [
              "<div>\n",
              "<style scoped>\n",
              "    .dataframe tbody tr th:only-of-type {\n",
              "        vertical-align: middle;\n",
              "    }\n",
              "\n",
              "    .dataframe tbody tr th {\n",
              "        vertical-align: top;\n",
              "    }\n",
              "\n",
              "    .dataframe thead th {\n",
              "        text-align: right;\n",
              "    }\n",
              "</style>\n",
              "<table border=\"1\" class=\"dataframe\">\n",
              "  <thead>\n",
              "    <tr style=\"text-align: right;\">\n",
              "      <th></th>\n",
              "      <th>count</th>\n",
              "      <th>mean</th>\n",
              "      <th>std</th>\n",
              "      <th>min</th>\n",
              "      <th>25%</th>\n",
              "      <th>50%</th>\n",
              "      <th>75%</th>\n",
              "      <th>max</th>\n",
              "    </tr>\n",
              "  </thead>\n",
              "  <tbody>\n",
              "    <tr>\n",
              "      <th>Pregnancies</th>\n",
              "      <td>768.0</td>\n",
              "      <td>3.845052</td>\n",
              "      <td>3.369578</td>\n",
              "      <td>0.000</td>\n",
              "      <td>1.00000</td>\n",
              "      <td>3.0000</td>\n",
              "      <td>6.00000</td>\n",
              "      <td>17.00</td>\n",
              "    </tr>\n",
              "    <tr>\n",
              "      <th>Glucose</th>\n",
              "      <td>768.0</td>\n",
              "      <td>120.894531</td>\n",
              "      <td>31.972618</td>\n",
              "      <td>0.000</td>\n",
              "      <td>99.00000</td>\n",
              "      <td>117.0000</td>\n",
              "      <td>140.25000</td>\n",
              "      <td>199.00</td>\n",
              "    </tr>\n",
              "    <tr>\n",
              "      <th>BloodPressure</th>\n",
              "      <td>768.0</td>\n",
              "      <td>69.105469</td>\n",
              "      <td>19.355807</td>\n",
              "      <td>0.000</td>\n",
              "      <td>62.00000</td>\n",
              "      <td>72.0000</td>\n",
              "      <td>80.00000</td>\n",
              "      <td>122.00</td>\n",
              "    </tr>\n",
              "    <tr>\n",
              "      <th>SkinThickness</th>\n",
              "      <td>768.0</td>\n",
              "      <td>20.536458</td>\n",
              "      <td>15.952218</td>\n",
              "      <td>0.000</td>\n",
              "      <td>0.00000</td>\n",
              "      <td>23.0000</td>\n",
              "      <td>32.00000</td>\n",
              "      <td>99.00</td>\n",
              "    </tr>\n",
              "    <tr>\n",
              "      <th>Insulin</th>\n",
              "      <td>768.0</td>\n",
              "      <td>79.799479</td>\n",
              "      <td>115.244002</td>\n",
              "      <td>0.000</td>\n",
              "      <td>0.00000</td>\n",
              "      <td>30.5000</td>\n",
              "      <td>127.25000</td>\n",
              "      <td>846.00</td>\n",
              "    </tr>\n",
              "    <tr>\n",
              "      <th>BMI</th>\n",
              "      <td>768.0</td>\n",
              "      <td>31.992578</td>\n",
              "      <td>7.884160</td>\n",
              "      <td>0.000</td>\n",
              "      <td>27.30000</td>\n",
              "      <td>32.0000</td>\n",
              "      <td>36.60000</td>\n",
              "      <td>67.10</td>\n",
              "    </tr>\n",
              "    <tr>\n",
              "      <th>DiabetesPedigreeFunction</th>\n",
              "      <td>768.0</td>\n",
              "      <td>0.471876</td>\n",
              "      <td>0.331329</td>\n",
              "      <td>0.078</td>\n",
              "      <td>0.24375</td>\n",
              "      <td>0.3725</td>\n",
              "      <td>0.62625</td>\n",
              "      <td>2.42</td>\n",
              "    </tr>\n",
              "    <tr>\n",
              "      <th>Age</th>\n",
              "      <td>768.0</td>\n",
              "      <td>33.240885</td>\n",
              "      <td>11.760232</td>\n",
              "      <td>21.000</td>\n",
              "      <td>24.00000</td>\n",
              "      <td>29.0000</td>\n",
              "      <td>41.00000</td>\n",
              "      <td>81.00</td>\n",
              "    </tr>\n",
              "    <tr>\n",
              "      <th>Outcome</th>\n",
              "      <td>768.0</td>\n",
              "      <td>0.348958</td>\n",
              "      <td>0.476951</td>\n",
              "      <td>0.000</td>\n",
              "      <td>0.00000</td>\n",
              "      <td>0.0000</td>\n",
              "      <td>1.00000</td>\n",
              "      <td>1.00</td>\n",
              "    </tr>\n",
              "  </tbody>\n",
              "</table>\n",
              "</div>"
            ],
            "text/plain": [
              "                          count        mean         std     min       25%  \\\n",
              "Pregnancies               768.0    3.845052    3.369578   0.000   1.00000   \n",
              "Glucose                   768.0  120.894531   31.972618   0.000  99.00000   \n",
              "BloodPressure             768.0   69.105469   19.355807   0.000  62.00000   \n",
              "SkinThickness             768.0   20.536458   15.952218   0.000   0.00000   \n",
              "Insulin                   768.0   79.799479  115.244002   0.000   0.00000   \n",
              "BMI                       768.0   31.992578    7.884160   0.000  27.30000   \n",
              "DiabetesPedigreeFunction  768.0    0.471876    0.331329   0.078   0.24375   \n",
              "Age                       768.0   33.240885   11.760232  21.000  24.00000   \n",
              "Outcome                   768.0    0.348958    0.476951   0.000   0.00000   \n",
              "\n",
              "                               50%        75%     max  \n",
              "Pregnancies                 3.0000    6.00000   17.00  \n",
              "Glucose                   117.0000  140.25000  199.00  \n",
              "BloodPressure              72.0000   80.00000  122.00  \n",
              "SkinThickness              23.0000   32.00000   99.00  \n",
              "Insulin                    30.5000  127.25000  846.00  \n",
              "BMI                        32.0000   36.60000   67.10  \n",
              "DiabetesPedigreeFunction    0.3725    0.62625    2.42  \n",
              "Age                        29.0000   41.00000   81.00  \n",
              "Outcome                     0.0000    1.00000    1.00  "
            ]
          },
          "metadata": {
            "tags": []
          },
          "execution_count": 466
        }
      ]
    },
    {
      "cell_type": "code",
      "metadata": {
        "id": "5trm0nXkbgAI"
      },
      "source": [
        "db_copy = db.copy(deep = True)\n",
        "db_copy[['Glucose','BloodPressure','SkinThickness','Insulin','BMI']] = db_copy[['Glucose','BloodPressure','SkinThickness','Insulin','BMI']].replace(0,np.NaN)"
      ],
      "execution_count": null,
      "outputs": []
    },
    {
      "cell_type": "code",
      "metadata": {
        "id": "w88WItz9bgAJ",
        "outputId": "401e148e-0e36-44da-d818-df1859c38451"
      },
      "source": [
        "print(db_copy.isnull().sum())"
      ],
      "execution_count": null,
      "outputs": [
        {
          "output_type": "stream",
          "text": [
            "Pregnancies                   0\n",
            "Glucose                       5\n",
            "BloodPressure                35\n",
            "SkinThickness               227\n",
            "Insulin                     374\n",
            "BMI                          11\n",
            "DiabetesPedigreeFunction      0\n",
            "Age                           0\n",
            "Outcome                       0\n",
            "dtype: int64\n"
          ],
          "name": "stdout"
        }
      ]
    },
    {
      "cell_type": "code",
      "metadata": {
        "scrolled": false,
        "id": "Pjg-GfJjbgAK",
        "outputId": "e1379d5f-b2e4-4cf5-8a67-e15be6558dd8"
      },
      "source": [
        "p = db.hist(figsize = (20,20))"
      ],
      "execution_count": null,
      "outputs": [
        {
          "output_type": "display_data",
          "data": {
            "image/png": "[encoded data removed]",
            "text/plain": [
              "<Figure size 1440x1440 with 9 Axes>"
            ]
          },
          "metadata": {
            "tags": [],
            "needs_background": "light"
          }
        }
      ]
    },
    {
      "cell_type": "markdown",
      "metadata": {
        "id": "d1izoAdMbgAK"
      },
      "source": [
        "# Filling missing values"
      ]
    },
    {
      "cell_type": "code",
      "metadata": {
        "id": "AnFe9qqqbgAL"
      },
      "source": [
        "db_copy['Glucose'].fillna(db_copy['Glucose'].median(), inplace = True)"
      ],
      "execution_count": null,
      "outputs": []
    },
    {
      "cell_type": "code",
      "metadata": {
        "id": "lzkd_zOgbgAL"
      },
      "source": [
        "db_copy['BloodPressure'].fillna(db_copy['BloodPressure'].mean(), inplace = True)"
      ],
      "execution_count": null,
      "outputs": []
    },
    {
      "cell_type": "code",
      "metadata": {
        "id": "aQWHzr5PbgAN"
      },
      "source": [
        "db_copy['SkinThickness'].fillna(db_copy['SkinThickness'].median(), inplace = True)"
      ],
      "execution_count": null,
      "outputs": []
    },
    {
      "cell_type": "code",
      "metadata": {
        "id": "5jMMzXYfbgAO"
      },
      "source": [
        "db_copy['Insulin'].fillna(db_copy['Insulin'].median(), inplace = True)"
      ],
      "execution_count": null,
      "outputs": []
    },
    {
      "cell_type": "code",
      "metadata": {
        "id": "SFhTwPn_bgAP"
      },
      "source": [
        "db_copy['BMI'].fillna(db_copy['BMI'].median(), inplace = True)"
      ],
      "execution_count": null,
      "outputs": []
    },
    {
      "cell_type": "code",
      "metadata": {
        "id": "jm4n61gbbgAP",
        "outputId": "f606883b-6d2f-4d44-ecef-7105002d822b"
      },
      "source": [
        "print(db_copy.isnull().sum())"
      ],
      "execution_count": null,
      "outputs": [
        {
          "output_type": "stream",
          "text": [
            "Pregnancies                 0\n",
            "Glucose                     0\n",
            "BloodPressure               0\n",
            "SkinThickness               0\n",
            "Insulin                     0\n",
            "BMI                         0\n",
            "DiabetesPedigreeFunction    0\n",
            "Age                         0\n",
            "Outcome                     0\n",
            "dtype: int64\n"
          ],
          "name": "stdout"
        }
      ]
    },
    {
      "cell_type": "code",
      "metadata": {
        "id": "n1hKd-xYbgAR",
        "outputId": "faf670f5-7a38-478c-bfd2-a8a6abcd84c3"
      },
      "source": [
        "db.Outcome.value_counts().plot(kind=\"pie\")"
      ],
      "execution_count": null,
      "outputs": [
        {
          "output_type": "execute_result",
          "data": {
            "text/plain": [
              "<AxesSubplot:ylabel='Outcome'>"
            ]
          },
          "metadata": {
            "tags": []
          },
          "execution_count": 528
        },
        {
          "output_type": "display_data",
          "data": {
            "image/png": "[encoded data removed]",
            "text/plain": [
              "<Figure size 432x288 with 1 Axes>"
            ]
          },
          "metadata": {
            "tags": []
          }
        }
      ]
    },
    {
      "cell_type": "code",
      "metadata": {
        "id": "5jwHJ3dybgAS",
        "outputId": "14bc555c-74bc-419b-e6e4-8e578a3b185a"
      },
      "source": [
        "import seaborn as sns\n",
        "sns.boxplot(x=db[\"Pregnancies\"])"
      ],
      "execution_count": null,
      "outputs": [
        {
          "output_type": "execute_result",
          "data": {
            "text/plain": [
              "<AxesSubplot:xlabel='Pregnancies'>"
            ]
          },
          "metadata": {
            "tags": []
          },
          "execution_count": 477
        },
        {
          "output_type": "display_data",
          "data": {
            "image/png": "[encoded data removed]",
            "text/plain": [
              "<Figure size 432x288 with 1 Axes>"
            ]
          },
          "metadata": {
            "tags": [],
            "needs_background": "light"
          }
        }
      ]
    },
    {
      "cell_type": "code",
      "metadata": {
        "id": "uKflZ0ojbgAT",
        "outputId": "e9c6ca0f-0087-4ca8-e80a-7d24bdc3ab17"
      },
      "source": [
        "sns.boxplot(x=db[\"Glucose\"])"
      ],
      "execution_count": null,
      "outputs": [
        {
          "output_type": "execute_result",
          "data": {
            "text/plain": [
              "<AxesSubplot:xlabel='Glucose'>"
            ]
          },
          "metadata": {
            "tags": []
          },
          "execution_count": 478
        },
        {
          "output_type": "display_data",
          "data": {
            "image/png": "[encoded data removed]",
            "text/plain": [
              "<Figure size 432x288 with 1 Axes>"
            ]
          },
          "metadata": {
            "tags": [],
            "needs_background": "light"
          }
        }
      ]
    },
    {
      "cell_type": "code",
      "metadata": {
        "id": "INbcVE-VbgAV",
        "outputId": "246164e6-954f-47aa-c9fc-6aafae74247a"
      },
      "source": [
        "sns.boxplot(x=db[\"BloodPressure\"])"
      ],
      "execution_count": null,
      "outputs": [
        {
          "output_type": "execute_result",
          "data": {
            "text/plain": [
              "<AxesSubplot:xlabel='BloodPressure'>"
            ]
          },
          "metadata": {
            "tags": []
          },
          "execution_count": 479
        },
        {
          "output_type": "display_data",
          "data": {
            "image/png": "[encoded data removed]",
            "text/plain": [
              "<Figure size 432x288 with 1 Axes>"
            ]
          },
          "metadata": {
            "tags": [],
            "needs_background": "light"
          }
        }
      ]
    },
    {
      "cell_type": "code",
      "metadata": {
        "id": "PVmxtOfKbgAW",
        "outputId": "fe094f70-f191-4c8e-805c-8ab84bd566df"
      },
      "source": [
        "sns.boxplot(x=db[\"SkinThickness\"])"
      ],
      "execution_count": null,
      "outputs": [
        {
          "output_type": "execute_result",
          "data": {
            "text/plain": [
              "<AxesSubplot:xlabel='SkinThickness'>"
            ]
          },
          "metadata": {
            "tags": []
          },
          "execution_count": 480
        },
        {
          "output_type": "display_data",
          "data": {
            "image/png": "[encoded data removed]",
            "text/plain": [
              "<Figure size 432x288 with 1 Axes>"
            ]
          },
          "metadata": {
            "tags": [],
            "needs_background": "light"
          }
        }
      ]
    },
    {
      "cell_type": "code",
      "metadata": {
        "id": "JXhdXR7xbgAX",
        "outputId": "6510e6a8-6468-4583-dfb2-f002b044348e"
      },
      "source": [
        "sns.boxplot(x=db[\"Insulin\"])"
      ],
      "execution_count": null,
      "outputs": [
        {
          "output_type": "execute_result",
          "data": {
            "text/plain": [
              "<AxesSubplot:xlabel='Insulin'>"
            ]
          },
          "metadata": {
            "tags": []
          },
          "execution_count": 481
        },
        {
          "output_type": "display_data",
          "data": {
            "image/png": "[encoded data removed]",
            "text/plain": [
              "<Figure size 432x288 with 1 Axes>"
            ]
          },
          "metadata": {
            "tags": [],
            "needs_background": "light"
          }
        }
      ]
    },
    {
      "cell_type": "code",
      "metadata": {
        "id": "qv2m-wD4bgAY",
        "outputId": "9a3338f1-20f7-45c4-9741-7378186ded93"
      },
      "source": [
        "sns.boxplot(x=db[\"BMI\"])"
      ],
      "execution_count": null,
      "outputs": [
        {
          "output_type": "execute_result",
          "data": {
            "text/plain": [
              "<AxesSubplot:xlabel='BMI'>"
            ]
          },
          "metadata": {
            "tags": []
          },
          "execution_count": 482
        },
        {
          "output_type": "display_data",
          "data": {
            "image/png": "[encoded data removed]",
            "text/plain": [
              "<Figure size 432x288 with 1 Axes>"
            ]
          },
          "metadata": {
            "tags": [],
            "needs_background": "light"
          }
        }
      ]
    },
    {
      "cell_type": "code",
      "metadata": {
        "id": "LuHIBoXxbgAZ",
        "outputId": "773a2a6e-3c8c-4f42-e10c-9b2ef69aab34"
      },
      "source": [
        "sns.boxplot(x=db[\"Age\"])"
      ],
      "execution_count": null,
      "outputs": [
        {
          "output_type": "execute_result",
          "data": {
            "text/plain": [
              "<AxesSubplot:xlabel='Age'>"
            ]
          },
          "metadata": {
            "tags": []
          },
          "execution_count": 483
        },
        {
          "output_type": "display_data",
          "data": {
            "image/png": "[encoded data removed]",
            "text/plain": [
              "<Figure size 432x288 with 1 Axes>"
            ]
          },
          "metadata": {
            "tags": [],
            "needs_background": "light"
          }
        }
      ]
    },
    {
      "cell_type": "code",
      "metadata": {
        "id": "Hfts9KS8bgAa",
        "outputId": "98f3e92a-f5f3-48d9-803d-6ad39f809c73"
      },
      "source": [
        "sns.boxplot(x=db[\"DiabetesPedigreeFunction\"])"
      ],
      "execution_count": null,
      "outputs": [
        {
          "output_type": "execute_result",
          "data": {
            "text/plain": [
              "<AxesSubplot:xlabel='DiabetesPedigreeFunction'>"
            ]
          },
          "metadata": {
            "tags": []
          },
          "execution_count": 484
        },
        {
          "output_type": "display_data",
          "data": {
            "image/png": "[encoded data removed]",
            "text/plain": [
              "<Figure size 432x288 with 1 Axes>"
            ]
          },
          "metadata": {
            "tags": [],
            "needs_background": "light"
          }
        }
      ]
    },
    {
      "cell_type": "markdown",
      "metadata": {
        "id": "86DZ2fWQbgAb"
      },
      "source": [
        "# Removing Outliers for Blood Pressure"
      ]
    },
    {
      "cell_type": "code",
      "metadata": {
        "id": "n2zQPrCqbgAc"
      },
      "source": [
        "Q1 = db[\"BloodPressure\"].quantile(0.25)\n",
        "Q3 = db[\"BloodPressure\"].quantile(0.75)\n",
        "IQR = Q3 - Q1\n",
        "db[\"BloodPressure\"] = db[\"BloodPressure\"][~((db[\"BloodPressure\"] < (Q1 - 1.5 * IQR)) |(db[\"BloodPressure\"] > (Q3 + 1.5 * IQR)))]"
      ],
      "execution_count": null,
      "outputs": []
    },
    {
      "cell_type": "markdown",
      "metadata": {
        "id": "2HqRBJ--bgAd"
      },
      "source": [
        "# Removing Outliers For Insulin"
      ]
    },
    {
      "cell_type": "code",
      "metadata": {
        "id": "KQ750EunbgAe"
      },
      "source": [
        "Q1 = db[\"Insulin\"].quantile(0.25)\n",
        "Q3 = db[\"Insulin\"].quantile(0.75)\n",
        "IQR = Q3 - Q1\n",
        "db[\"Insulin\"] = db[\"Insulin\"][~((db[\"Insulin\"] < (Q1 - 1.5 * IQR)) |(db[\"Insulin\"] > (Q3 + 1.5 * IQR)))]"
      ],
      "execution_count": null,
      "outputs": []
    },
    {
      "cell_type": "markdown",
      "metadata": {
        "id": "N9SaYbE9bgAf"
      },
      "source": [
        "# Removing Outliers for BMI"
      ]
    },
    {
      "cell_type": "code",
      "metadata": {
        "id": "V3so9z1-bgAg"
      },
      "source": [
        "Q1 = db[\"BMI\"].quantile(0.25)\n",
        "Q3 = db[\"BMI\"].quantile(0.75)\n",
        "IQR = Q3 - Q1\n",
        "db[\"BMI\"] = db[\"BMI\"][~((db[\"BMI\"] < (Q1 - 1.5 * IQR)) |(db[\"BMI\"] > (Q3 + 1.5 * IQR)))]\n"
      ],
      "execution_count": null,
      "outputs": []
    },
    {
      "cell_type": "markdown",
      "metadata": {
        "id": "MDDqwhuUbgAl"
      },
      "source": [
        "# Removing Outliers for Diabetes Pedigree Function"
      ]
    },
    {
      "cell_type": "code",
      "metadata": {
        "id": "d5uSJXjtbgAm"
      },
      "source": [
        "Q1 = db[\"DiabetesPedigreeFunction\"].quantile(0.25)\n",
        "Q3 = db[\"DiabetesPedigreeFunction\"].quantile(0.75)\n",
        "IQR = Q3 - Q1\n",
        "db[\"DiabetesPedigreeFunction\"] = db[\"DiabetesPedigreeFunction\"][~((db[\"DiabetesPedigreeFunction\"] < (Q1 - 1.5 * IQR)) |(db[\"DiabetesPedigreeFunction\"] > (Q3 + 1.5 * IQR)))]"
      ],
      "execution_count": null,
      "outputs": []
    },
    {
      "cell_type": "code",
      "metadata": {
        "id": "MWFKw2YAbgAn",
        "outputId": "a7bd8085-dced-444f-f518-5c04c5041477"
      },
      "source": [
        "db.info(verbose=True)"
      ],
      "execution_count": null,
      "outputs": [
        {
          "output_type": "stream",
          "text": [
            "<class 'pandas.core.frame.DataFrame'>\n",
            "RangeIndex: 768 entries, 0 to 767\n",
            "Data columns (total 9 columns):\n",
            " #   Column                    Non-Null Count  Dtype  \n",
            "---  ------                    --------------  -----  \n",
            " 0   Pregnancies               768 non-null    int64  \n",
            " 1   Glucose                   768 non-null    int64  \n",
            " 2   BloodPressure             723 non-null    float64\n",
            " 3   SkinThickness             768 non-null    int64  \n",
            " 4   Insulin                   734 non-null    float64\n",
            " 5   BMI                       749 non-null    float64\n",
            " 6   DiabetesPedigreeFunction  739 non-null    float64\n",
            " 7   Age                       768 non-null    int64  \n",
            " 8   Outcome                   768 non-null    int64  \n",
            "dtypes: float64(4), int64(5)\n",
            "memory usage: 54.1 KB\n"
          ],
          "name": "stdout"
        }
      ]
    },
    {
      "cell_type": "markdown",
      "metadata": {
        "id": "eth10XH0bgAo"
      },
      "source": [
        "# Removing Rows with Missing Values"
      ]
    },
    {
      "cell_type": "code",
      "metadata": {
        "id": "zD9V0ClZbgAp",
        "outputId": "f48067de-ae65-48e9-e436-b31eea0872f9"
      },
      "source": [
        "db.dropna(subset = [\"Insulin\",\"BloodPressure\",\"BMI\",\"DiabetesPedigreeFunction\"], inplace=True)\n",
        "db.info(verbose=True)"
      ],
      "execution_count": null,
      "outputs": [
        {
          "output_type": "stream",
          "text": [
            "<class 'pandas.core.frame.DataFrame'>\n",
            "Int64Index: 656 entries, 0 to 767\n",
            "Data columns (total 9 columns):\n",
            " #   Column                    Non-Null Count  Dtype  \n",
            "---  ------                    --------------  -----  \n",
            " 0   Pregnancies               656 non-null    int64  \n",
            " 1   Glucose                   656 non-null    int64  \n",
            " 2   BloodPressure             656 non-null    float64\n",
            " 3   SkinThickness             656 non-null    int64  \n",
            " 4   Insulin                   656 non-null    float64\n",
            " 5   BMI                       656 non-null    float64\n",
            " 6   DiabetesPedigreeFunction  656 non-null    float64\n",
            " 7   Age                       656 non-null    int64  \n",
            " 8   Outcome                   656 non-null    int64  \n",
            "dtypes: float64(4), int64(5)\n",
            "memory usage: 51.2 KB\n"
          ],
          "name": "stdout"
        }
      ]
    },
    {
      "cell_type": "code",
      "metadata": {
        "id": "zqeN-p4FbgAq"
      },
      "source": [
        "#db[\"Age\"].describe()\n",
        "def category(a):\n",
        "    if a <= 20:\n",
        "        return \"young\"\n",
        "    elif a > 20 and a < 50:\n",
        "        return \"middle\"\n",
        "    elif a >= 50:\n",
        "        return \"old\"\n",
        "\n",
        "db[\"Age_new\"] = db[\"Age\"].apply(lambda x : category(x))\n",
        "    "
      ],
      "execution_count": null,
      "outputs": []
    },
    {
      "cell_type": "code",
      "metadata": {
        "id": "glnAqhC3bgAr",
        "outputId": "41ca9cfc-48de-48f6-9cfe-b63af5baa9df"
      },
      "source": [
        "sns.countplot(x = db[\"Age_new\"], hue = db[\"Outcome\"])"
      ],
      "execution_count": null,
      "outputs": [
        {
          "output_type": "execute_result",
          "data": {
            "text/plain": [
              "<AxesSubplot:xlabel='Age_new', ylabel='count'>"
            ]
          },
          "metadata": {
            "tags": []
          },
          "execution_count": 541
        },
        {
          "output_type": "display_data",
          "data": {
            "image/png": "[encoded data removed]",
            "text/plain": [
              "<Figure size 432x288 with 1 Axes>"
            ]
          },
          "metadata": {
            "tags": [],
            "needs_background": "light"
          }
        }
      ]
    },
    {
      "cell_type": "code",
      "metadata": {
        "id": "g5mLxTYRbgAs",
        "outputId": "59b45d7a-b697-47b3-b4ac-9758e8fc0ae8"
      },
      "source": [
        "def category1(a):\n",
        "    if a < 18.5:\n",
        "        return \"Under weight\"\n",
        "    elif a >= 18 and a <= 25:\n",
        "        return \"Correct weight\"\n",
        "    elif a > 25:\n",
        "        return \"Over weight\"\n",
        "\n",
        "db[\"BMI_new\"] = db[\"BMI\"].apply(lambda x : category(x))\n",
        "\n",
        "sns.countplot(x = db[\"BMI_new\"], hue = db[\"Outcome\"])"
      ],
      "execution_count": null,
      "outputs": [
        {
          "output_type": "execute_result",
          "data": {
            "text/plain": [
              "<AxesSubplot:xlabel='BMI_new', ylabel='count'>"
            ]
          },
          "metadata": {
            "tags": []
          },
          "execution_count": 543
        },
        {
          "output_type": "display_data",
          "data": {
            "image/png": "[encoded data removed]",
            "text/plain": [
              "<Figure size 432x288 with 1 Axes>"
            ]
          },
          "metadata": {
            "tags": [],
            "needs_background": "light"
          }
        }
      ]
    },
    {
      "cell_type": "markdown",
      "metadata": {
        "id": "N8jNKTJXbgAu"
      },
      "source": [
        "# Scaling"
      ]
    },
    {
      "cell_type": "code",
      "metadata": {
        "id": "YDr-8GzabgAv"
      },
      "source": [
        "scaler = StandardScaler()\n",
        "db.iloc[:,:-1] = scaler.fit_transform(db.iloc[:,:-1])"
      ],
      "execution_count": null,
      "outputs": []
    },
    {
      "cell_type": "code",
      "metadata": {
        "id": "fPb9jk1NbgAw"
      },
      "source": [
        "db = pd.DataFrame(db)"
      ],
      "execution_count": null,
      "outputs": []
    },
    {
      "cell_type": "markdown",
      "metadata": {
        "id": "QmPxiiIpbgAw"
      },
      "source": [
        "# KNN"
      ]
    },
    {
      "cell_type": "code",
      "metadata": {
        "id": "mNR1vczQbgAx"
      },
      "source": [
        "class K_Nearest_Neighbors_Classifier() :  \n",
        "      \n",
        "    def __init__( self, K ) : \n",
        "          \n",
        "        self.K = K \n",
        "          \n",
        "    # Function to store training set \n",
        "          \n",
        "    def fit( self, X_train, Y_train ) : \n",
        "          \n",
        "        self.X_train = X_train \n",
        "          \n",
        "        self.Y_train = Y_train \n",
        "          \n",
        "        # no_of_training_examples, no_of_features \n",
        "          \n",
        "        self.m, self.n = X_train.shape \n",
        "      \n",
        "    # Function for prediction \n",
        "          \n",
        "    def predict( self, X_test ) : \n",
        "          \n",
        "        self.X_test = X_test \n",
        "          \n",
        "        # no_of_test_examples, no_of_features \n",
        "          \n",
        "        self.m_test, self.n = X_test.shape \n",
        "          \n",
        "        # initialize Y_predict \n",
        "          \n",
        "        Y_predict = np.zeros( self.m_test ) \n",
        "          \n",
        "        for i in range( self.m_test ) : \n",
        "              \n",
        "            x = self.X_test[i] \n",
        "              \n",
        "            # find the K nearest neighbors from current test example \n",
        "              \n",
        "            neighbors = np.zeros( self.K ) \n",
        "              \n",
        "            neighbors = self.find_neighbors( x ) \n",
        "              \n",
        "            # most frequent class in K neighbors \n",
        "              \n",
        "            Y_predict[i] = mode( neighbors )[0][0]     \n",
        "              \n",
        "        return Y_predict \n",
        "      \n",
        "    # Function to find the K nearest neighbors to current test example \n",
        "            \n",
        "    def find_neighbors( self, x ) : \n",
        "          \n",
        "        # calculate all the euclidean distances between current  \n",
        "        # test example x and training set X_train \n",
        "          \n",
        "        euclidean_distances = np.zeros( self.m ) \n",
        "          \n",
        "        for i in range( self.m ) : \n",
        "              \n",
        "            d = self.euclidean( x, self.X_train[i] ) \n",
        "              \n",
        "            euclidean_distances[i] = d \n",
        "          \n",
        "        # sort Y_train according to euclidean_distance_array and  \n",
        "        # store into Y_train_sorted \n",
        "          \n",
        "        inds = euclidean_distances.argsort() \n",
        "          \n",
        "        Y_train_sorted = self.Y_train[inds] \n",
        "          \n",
        "        return Y_train_sorted[:self.K] \n",
        "      \n",
        "    # Function to calculate euclidean distance \n",
        "              \n",
        "    def euclidean( self, x, x_train ) : \n",
        "          \n",
        "        return np.sqrt( np.sum( np.square( x - x_train ) ) ) \n",
        "  \n",
        "# Driver code \n",
        "  \n",
        "def main() : \n",
        "      \n",
        "    # Importing dataset \n",
        "      \n",
        "     \n",
        "  \n",
        "    X = db.iloc[:,:-1].values \n",
        "  \n",
        "    Y = db.iloc[:,-1:].values \n",
        "      \n",
        "    # Splitting dataset into train and test set \n",
        "  \n",
        "    X_train, X_test, Y_train, Y_test = train_test_split(  X, Y, test_size = 1/3, random_state = 0 ) \n",
        "      \n",
        "    # Model training \n",
        "      \n",
        "    model = K_Nearest_Neighbors_Classifier( K = 3 ) \n",
        "      \n",
        "    model.fit( X_train, Y_train ) \n",
        "      \n",
        "    model1 = KNeighborsClassifier( n_neighbors = 3 ) \n",
        "      \n",
        "    model1.fit( X_train, Y_train ) \n",
        "      \n",
        "    # Prediction on test set \n",
        "  \n",
        "    Y_pred = model.predict( X_test ) \n",
        "      \n",
        "    Y_pred1 = model1.predict( X_test ) \n",
        "      \n",
        "    # measure performance \n",
        "      \n",
        "    correctly_classified = 0\n",
        "      \n",
        "    correctly_classified1 = 0\n",
        "      \n",
        "    # counter \n",
        "      \n",
        "    count = 0\n",
        "      \n",
        "    for count in range( np.size( Y_pred ) ) : \n",
        "          \n",
        "        if Y_test[count] == Y_pred[count] : \n",
        "              \n",
        "            correctly_classified = correctly_classified + 1\n",
        "          \n",
        "        if Y_test[count] == Y_pred1[count] : \n",
        "              \n",
        "            correctly_classified1 = correctly_classified1 + 1\n",
        "              \n",
        "        count = count + 1\n",
        "          \n",
        "    print( \"Accuracy on test set by our model       :  \", (  \n",
        "      correctly_classified / count ) * 100 ) \n",
        "    print( \"Accuracy on test set by sklearn model   :  \", (  \n",
        "      correctly_classified1 / count ) * 100 ) \n",
        "    \n",
        "      "
      ],
      "execution_count": null,
      "outputs": []
    },
    {
      "cell_type": "code",
      "metadata": {
        "id": "2h566XQObgA1",
        "outputId": "01c42a39-16a1-4735-9517-93e0e96dc0b2"
      },
      "source": [
        "if __name__ == \"__main__\" :  \n",
        "      \n",
        "    main()"
      ],
      "execution_count": null,
      "outputs": [
        {
          "output_type": "stream",
          "text": [
            "<ipython-input-493-6733aecb6bda>:103: DataConversionWarning: A column-vector y was passed when a 1d array was expected. Please change the shape of y to (n_samples, ), for example using ravel().\n",
            "  model1.fit( X_train, Y_train )\n"
          ],
          "name": "stderr"
        },
        {
          "output_type": "stream",
          "text": [
            "Accuracy on test set by our model       :   75.34246575342466\n",
            "Accuracy on test set by sklearn model   :   75.34246575342466\n"
          ],
          "name": "stdout"
        }
      ]
    },
    {
      "cell_type": "code",
      "metadata": {
        "id": "nRcjE1mkbgA2"
      },
      "source": [
        ""
      ],
      "execution_count": null,
      "outputs": []
    },
    {
      "cell_type": "markdown",
      "metadata": {
        "id": "NO4nSZuEbgA3"
      },
      "source": [
        "# SVM"
      ]
    },
    {
      "cell_type": "code",
      "metadata": {
        "id": "gt_ASbijbgA3",
        "outputId": "9abcc218-eb7a-4f32-8561-8a52e401e030"
      },
      "source": [
        "from sklearn import svm\n",
        "\n",
        "#Create a svm Classifier\n",
        "clf = svm.SVC(kernel='linear') # Linear Kernel\n",
        "\n",
        "#Train the model using the training sets\n",
        "clf.fit(X_train, y_train)\n",
        "\n",
        "#Predict the response for test dataset\n",
        "y_pred = clf.predict(X_test)\n",
        "\n",
        "from sklearn import metrics\n",
        "\n",
        "# Model Accuracy: how often is the classifier correct?\n",
        "print(\"Accuracy:\",metrics.accuracy_score(y_test, y_pred))"
      ],
      "execution_count": null,
      "outputs": [
        {
          "output_type": "stream",
          "text": [
            "Accuracy: 0.7969543147208121\n"
          ],
          "name": "stdout"
        }
      ]
    },
    {
      "cell_type": "code",
      "metadata": {
        "id": "OJ8TNGHkbgA4"
      },
      "source": [
        ""
      ],
      "execution_count": null,
      "outputs": []
    }
  ]
}